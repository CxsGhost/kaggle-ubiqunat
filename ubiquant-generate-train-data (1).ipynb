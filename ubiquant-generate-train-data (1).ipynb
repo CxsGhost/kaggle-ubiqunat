{
 "cells": [
  {
   "cell_type": "code",
   "execution_count": 1,
   "id": "6e1744da",
   "metadata": {
    "_cell_guid": "b1076dfc-b9ad-4769-8c92-a6c4dae69d19",
    "_uuid": "8f2839f25d086af736a60e9eeb907d3b93b6e0e5",
    "execution": {
     "iopub.execute_input": "2022-04-06T06:57:48.488585Z",
     "iopub.status.busy": "2022-04-06T06:57:48.487329Z",
     "iopub.status.idle": "2022-04-06T06:57:48.502545Z",
     "shell.execute_reply": "2022-04-06T06:57:48.503115Z",
     "shell.execute_reply.started": "2022-03-28T05:53:34.577527Z"
    },
    "papermill": {
     "duration": 0.035456,
     "end_time": "2022-04-06T06:57:48.503416",
     "exception": false,
     "start_time": "2022-04-06T06:57:48.467960",
     "status": "completed"
    },
    "tags": []
   },
   "outputs": [],
   "source": [
    "# This Python 3 environment comes with many helpful analytics libraries installed\n",
    "# It is defined by the kaggle/python Docker image: https://github.com/kaggle/docker-python\n",
    "# For example, here's several helpful packages to load\n",
    "\n",
    "import numpy as np # linear algebra\n",
    "import pandas as pd # data processing, CSV file I/O (e.g. pd.read_csv)\n",
    "\n",
    "# Input data files are available in the read-only \"../input/\" directory\n",
    "# For example, running this (by clicking run or pressing Shift+Enter) will list all files under the input directory\n",
    "\n",
    "import os\n",
    "\n",
    "# You can write up to 20GB to the current directory (/kaggle/working/) that gets preserved as output when you create a version using \"Save & Run All\" \n",
    "# You can also write temporary files to /kaggle/temp/, but they won't be saved outside of the current session"
   ]
  },
  {
   "cell_type": "code",
   "execution_count": 2,
   "id": "5bf630cc",
   "metadata": {
    "execution": {
     "iopub.execute_input": "2022-04-06T06:57:48.529207Z",
     "iopub.status.busy": "2022-04-06T06:57:48.528461Z",
     "iopub.status.idle": "2022-04-06T06:57:54.773680Z",
     "shell.execute_reply": "2022-04-06T06:57:54.773002Z",
     "shell.execute_reply.started": "2022-03-28T05:53:36.738731Z"
    },
    "papermill": {
     "duration": 6.258692,
     "end_time": "2022-04-06T06:57:54.773838",
     "exception": false,
     "start_time": "2022-04-06T06:57:48.515146",
     "status": "completed"
    },
    "tags": []
   },
   "outputs": [],
   "source": [
    "import gc\n",
    "import pickle\n",
    "import pandas as pd\n",
    "import numpy as np\n",
    "import tensorflow as tf\n",
    "from sklearn.preprocessing import StandardScaler, MinMaxScaler\n",
    "from sklearn.model_selection import KFold, StratifiedKFold, TimeSeriesSplit"
   ]
  },
  {
   "cell_type": "code",
   "execution_count": 3,
   "id": "c57cf69c",
   "metadata": {
    "execution": {
     "iopub.execute_input": "2022-04-06T06:57:54.800056Z",
     "iopub.status.busy": "2022-04-06T06:57:54.799327Z",
     "iopub.status.idle": "2022-04-06T06:58:36.024169Z",
     "shell.execute_reply": "2022-04-06T06:58:36.023607Z",
     "shell.execute_reply.started": "2022-03-28T06:13:35.531474Z"
    },
    "papermill": {
     "duration": 41.240933,
     "end_time": "2022-04-06T06:58:36.024322",
     "exception": false,
     "start_time": "2022-04-06T06:57:54.783389",
     "status": "completed"
    },
    "tags": []
   },
   "outputs": [
    {
     "name": "stdout",
     "output_type": "stream",
     "text": [
      "      Main_Section  investment_id\n",
      "0              1.0         2586.0\n",
      "1              3.0         1674.0\n",
      "2              2.0          604.0\n",
      "3              2.0         2959.0\n",
      "4              3.0         2231.0\n",
      "...            ...            ...\n",
      "3500           5.0          233.0\n",
      "3501           5.0         2073.0\n",
      "3502           5.0         3618.0\n",
      "3503           5.0         1534.0\n",
      "3504           2.0          766.0\n",
      "\n",
      "[3505 rows x 2 columns]\n",
      "(3141410, 304)\n"
     ]
    }
   ],
   "source": [
    "map_info = pd.read_csv('../input/ubiquantstock/map_info.csv')\n",
    "map_info = map_info[['Main_Section', 'investment_id']]\n",
    "print(map_info)\n",
    "data = pd.read_parquet('../input/ubiquant-parquet/train_low_mem.parquet')\n",
    "print(data.shape)\n",
    "data = pd.merge(data, map_info, how='left')\n",
    "data['Main_Section'].fillna(0, inplace=True)"
   ]
  },
  {
   "cell_type": "code",
   "execution_count": 4,
   "id": "ce6084cb",
   "metadata": {
    "execution": {
     "iopub.execute_input": "2022-04-06T06:58:36.049617Z",
     "iopub.status.busy": "2022-04-06T06:58:36.048884Z",
     "iopub.status.idle": "2022-04-06T06:58:36.051956Z",
     "shell.execute_reply": "2022-04-06T06:58:36.051352Z",
     "shell.execute_reply.started": "2022-03-26T07:41:43.576403Z"
    },
    "papermill": {
     "duration": 0.01753,
     "end_time": "2022-04-06T06:58:36.052139",
     "exception": false,
     "start_time": "2022-04-06T06:58:36.034609",
     "status": "completed"
    },
    "tags": []
   },
   "outputs": [],
   "source": [
    "# fea_col = [f'f_{i}' for i in range(300)]\n",
    "# print(fea_col)\n",
    "# c = fea_col[0]\n",
    "# mean = data[c].mean()\n",
    "# std = data[c].std()\n",
    "# choose = (data[c] < (mean + std * 70)) & (data[c] > (mean - std * 70))\n",
    "# for c in range(1, len(fea_col)):\n",
    "#     c = fea_col[c]\n",
    "#     mean = data[c].mean()\n",
    "#     std = data[c].std()\n",
    "#     choose = choose & ((data[c] < (mean + std * 70)) & (data[c] > (mean - std * 70)))\n",
    "# print(choose.astype('int').sum())\n",
    "# data = data[choose]\n",
    "# print(data.shape)\n",
    "# data.to_csv('./del_std70_data.csv', index=False)"
   ]
  },
  {
   "cell_type": "code",
   "execution_count": 5,
   "id": "d8b77cc1",
   "metadata": {
    "execution": {
     "iopub.execute_input": "2022-04-06T06:58:36.076018Z",
     "iopub.status.busy": "2022-04-06T06:58:36.075289Z",
     "iopub.status.idle": "2022-04-06T06:58:36.079260Z",
     "shell.execute_reply": "2022-04-06T06:58:36.079797Z",
     "shell.execute_reply.started": "2022-03-26T07:41:43.578013Z"
    },
    "papermill": {
     "duration": 0.017653,
     "end_time": "2022-04-06T06:58:36.079973",
     "exception": false,
     "start_time": "2022-04-06T06:58:36.062320",
     "status": "completed"
    },
    "tags": []
   },
   "outputs": [],
   "source": [
    "# data['target_lag1'] = data.groupby('investment_id')['target'].shift(1)\n",
    "# data['target_lag2'] = data.groupby('investment_id')['target'].shift(2)\n",
    "# data['target_lag3'] = data.groupby('investment_id')['target'].shift(3)\n",
    "# data['target_lag4'] = data.groupby('investment_id')['target'].shift(4)\n",
    "# data['target_lag5'] = data.groupby('investment_id')['target'].shift(5)\n",
    "# print(data['target_lag1'].isnull().sum())\n",
    "# print(data['target_lag2'].isnull().sum())\n",
    "# print(data['target_lag3'].isnull().sum())\n",
    "# print(data['target_lag4'].isnull().sum())\n",
    "# print(data['target_lag5'].isnull().sum())\n",
    "\n",
    "# data['target_lag1'][data['target_lag1'].isnull()] = data['target']\n",
    "# data['target_lag2'][data['target_lag2'].isnull()] = data['target']\n",
    "# data['target_lag3'][data['target_lag3'].isnull()] = data['target']\n",
    "# data['target_lag4'][data['target_lag4'].isnull()] = data['target']\n",
    "# data['target_lag5'][data['target_lag5'].isnull()] = data['target']\n",
    "# print(data['target_lag1'].isnull().sum())\n",
    "# print(data['target_lag2'].isnull().sum())\n",
    "# print(data['target_lag3'].isnull().sum())\n",
    "# print(data['target_lag4'].isnull().sum())\n",
    "# print(data['target_lag5'].isnull().sum())"
   ]
  },
  {
   "cell_type": "code",
   "execution_count": 6,
   "id": "54b270c2",
   "metadata": {
    "execution": {
     "iopub.execute_input": "2022-04-06T06:58:36.105670Z",
     "iopub.status.busy": "2022-04-06T06:58:36.104626Z",
     "iopub.status.idle": "2022-04-06T06:58:36.107629Z",
     "shell.execute_reply": "2022-04-06T06:58:36.106910Z",
     "shell.execute_reply.started": "2022-03-26T07:41:43.579535Z"
    },
    "papermill": {
     "duration": 0.017611,
     "end_time": "2022-04-06T06:58:36.107778",
     "exception": false,
     "start_time": "2022-04-06T06:58:36.090167",
     "status": "completed"
    },
    "tags": []
   },
   "outputs": [],
   "source": [
    "# tar_lag1 = data['target_lag1'].values\n",
    "# tar_lag2 = data['target_lag2'].values\n",
    "# tar_lag3 = data['target_lag3'].values\n",
    "# tar_lag4 = data['target_lag4'].values\n",
    "# tar_lag5 = data['target_lag5'].values\n",
    "\n",
    "# print(tar_lag1.shape, tar_lag1.dtype)\n",
    "\n",
    "# np.save('./target_lag1.npy', tar_lag1)\n",
    "# np.save('./target_lag2.npy', tar_lag2)\n",
    "# np.save('./target_lag3.npy', tar_lag3)\n",
    "# np.save('./target_lag4.npy', tar_lag4)\n",
    "# np.save('./target_lag5.npy', tar_lag5)"
   ]
  },
  {
   "cell_type": "code",
   "execution_count": 7,
   "id": "50679a7a",
   "metadata": {
    "execution": {
     "iopub.execute_input": "2022-04-06T06:58:36.134299Z",
     "iopub.status.busy": "2022-04-06T06:58:36.133218Z",
     "iopub.status.idle": "2022-04-06T06:58:36.135272Z",
     "shell.execute_reply": "2022-04-06T06:58:36.135940Z",
     "shell.execute_reply.started": "2022-03-26T07:41:43.582073Z"
    },
    "papermill": {
     "duration": 0.01785,
     "end_time": "2022-04-06T06:58:36.136119",
     "exception": false,
     "start_time": "2022-04-06T06:58:36.118269",
     "status": "completed"
    },
    "tags": []
   },
   "outputs": [],
   "source": [
    "# vibration = data.groupby('investment_id')['target'].transform(lambda x: len(x.unique())).values\n",
    "# scaler = MinMaxScaler(feature_range=(1e-3, 1 + 1e-3))\n",
    "# vibration = scaler.fit_transform(vibration.reshape(-1, 1))\n",
    "# vibration = vibration.astype('float32')\n",
    "# np.save('./target_vibration.npy', vibration)\n",
    "# print(vibration)\n",
    "# print(vibration.shape)"
   ]
  },
  {
   "cell_type": "code",
   "execution_count": 8,
   "id": "3ee40b8d",
   "metadata": {
    "execution": {
     "iopub.execute_input": "2022-04-06T06:58:36.160983Z",
     "iopub.status.busy": "2022-04-06T06:58:36.159995Z",
     "iopub.status.idle": "2022-04-06T06:58:36.321133Z",
     "shell.execute_reply": "2022-04-06T06:58:36.322178Z",
     "shell.execute_reply.started": "2022-03-26T07:41:43.584145Z"
    },
    "papermill": {
     "duration": 0.175862,
     "end_time": "2022-04-06T06:58:36.322524",
     "exception": false,
     "start_time": "2022-04-06T06:58:36.146662",
     "status": "completed"
    },
    "tags": []
   },
   "outputs": [
    {
     "name": "stdout",
     "output_type": "stream",
     "text": [
      "(3141410, 2)\n",
      "[6 2 2 5 5 5 3 5 5 1 5 5 5 5 0 5 5 5 5 5] int64\n"
     ]
    }
   ],
   "source": [
    "time_id = data['time_id'].values\n",
    "target = data['target'].values\n",
    "target = np.column_stack((time_id, target))\n",
    "print(target.shape)\n",
    "np.save('./train_(timeid)target-f32.npy', target)\n",
    "target = target[:, 1]\n",
    "\n",
    "inv_id = data['investment_id'].values\n",
    "np.save('./inv_id.npy', inv_id)\n",
    "\n",
    "section = data['Main_Section'].values.astype('int')\n",
    "print(section[:20], section.dtype)\n",
    "np.save('./section.npy', section)"
   ]
  },
  {
   "cell_type": "code",
   "execution_count": 9,
   "id": "5f25493d",
   "metadata": {
    "execution": {
     "iopub.execute_input": "2022-04-06T06:58:36.348675Z",
     "iopub.status.busy": "2022-04-06T06:58:36.347695Z",
     "iopub.status.idle": "2022-04-06T06:59:23.974518Z",
     "shell.execute_reply": "2022-04-06T06:59:23.975314Z",
     "shell.execute_reply.started": "2022-03-26T07:41:43.58616Z"
    },
    "papermill": {
     "duration": 47.641705,
     "end_time": "2022-04-06T06:59:23.975579",
     "exception": false,
     "start_time": "2022-04-06T06:58:36.333874",
     "status": "completed"
    },
    "tags": []
   },
   "outputs": [
    {
     "name": "stdout",
     "output_type": "stream",
     "text": [
      "(3141410, 300)\n"
     ]
    }
   ],
   "source": [
    "data = data.drop(columns=['time_id', 'row_id', 'investment_id', 'target', 'Main_Section']).values\n",
    "print(data.shape)\n",
    "np.save('./ori_train_data_feature_f16.npy', data.astype('float16'))\n",
    "\n",
    "scaler = StandardScaler()\n",
    "data = scaler.fit_transform(data)\n",
    "np.save('./train_std_data-f32.npy', data)\n",
    "np.save('./train_std_data.npy', data.astype('float16'))\n",
    "\n",
    "# scale_param = scaler.get_params()\n",
    "# print(scale_param)\n",
    "# with open('./scale_param.pkl', 'wb') as f:\n",
    "#     pickle.dump(scale_param, f)\n",
    "    "
   ]
  },
  {
   "cell_type": "code",
   "execution_count": 10,
   "id": "eed555b0",
   "metadata": {
    "execution": {
     "iopub.execute_input": "2022-04-06T06:59:27.850616Z",
     "iopub.status.busy": "2022-04-06T06:59:27.849589Z",
     "iopub.status.idle": "2022-04-06T06:59:27.853811Z",
     "shell.execute_reply": "2022-04-06T06:59:27.854371Z",
     "shell.execute_reply.started": "2022-03-26T07:41:43.587535Z"
    },
    "papermill": {
     "duration": 0.09148,
     "end_time": "2022-04-06T06:59:27.854808",
     "exception": false,
     "start_time": "2022-04-06T06:59:27.763328",
     "status": "completed"
    },
    "tags": []
   },
   "outputs": [],
   "source": [
    "# def create_record(i):\n",
    "#     dic = {}\n",
    "#     dic[\"feature\"] = tf.train.Feature(float_list=tf.train.FloatList(value=list(data[i])))\n",
    "#     dic[\"target\"] = tf.train.Feature(float_list=tf.train.FloatList(value=[target[i]]))\n",
    "#     record_bytes = tf.train.Example(features=tf.train.Features(feature=dic)).SerializeToString()\n",
    "#     return record_bytes\n",
    "\n",
    "# with tf.io.TFRecordWriter('./train_data_target-f32-all.tfrecords') as file_writer:\n",
    "#     for i in range(data.shape[0]):\n",
    "#         file_writer.write(create_record(i))"
   ]
  }
 ],
 "metadata": {
  "kernelspec": {
   "display_name": "Python 3",
   "language": "python",
   "name": "python3"
  },
  "language_info": {
   "codemirror_mode": {
    "name": "ipython",
    "version": 3
   },
   "file_extension": ".py",
   "mimetype": "text/x-python",
   "name": "python",
   "nbconvert_exporter": "python",
   "pygments_lexer": "ipython3",
   "version": "3.7.12"
  },
  "papermill": {
   "default_parameters": {},
   "duration": 113.817151,
   "end_time": "2022-04-06T06:59:31.487083",
   "environment_variables": {},
   "exception": null,
   "input_path": "__notebook__.ipynb",
   "output_path": "__notebook__.ipynb",
   "parameters": {},
   "start_time": "2022-04-06T06:57:37.669932",
   "version": "2.3.3"
  }
 },
 "nbformat": 4,
 "nbformat_minor": 5
}
