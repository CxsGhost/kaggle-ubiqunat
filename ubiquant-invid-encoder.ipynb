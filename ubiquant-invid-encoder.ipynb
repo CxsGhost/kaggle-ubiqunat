{
 "cells": [
  {
   "cell_type": "code",
   "execution_count": 1,
   "id": "6c51cb67",
   "metadata": {
    "_cell_guid": "b1076dfc-b9ad-4769-8c92-a6c4dae69d19",
    "_uuid": "8f2839f25d086af736a60e9eeb907d3b93b6e0e5",
    "execution": {
     "iopub.execute_input": "2022-02-19T19:40:10.056528Z",
     "iopub.status.busy": "2022-02-19T19:40:10.055643Z",
     "iopub.status.idle": "2022-02-19T19:40:10.059708Z",
     "shell.execute_reply": "2022-02-19T19:40:10.058930Z",
     "shell.execute_reply.started": "2022-02-19T19:32:33.718451Z"
    },
    "papermill": {
     "duration": 0.02856,
     "end_time": "2022-02-19T19:40:10.059873",
     "exception": false,
     "start_time": "2022-02-19T19:40:10.031313",
     "status": "completed"
    },
    "tags": []
   },
   "outputs": [],
   "source": [
    "# This Python 3 environment comes with many helpful analytics libraries installed\n",
    "# It is defined by the kaggle/python Docker image: https://github.com/kaggle/docker-python\n",
    "# For example, here's several helpful packages to load\n",
    "\n",
    "import numpy as np # linear algebra\n",
    "import pandas as pd # data processing, CSV file I/O (e.g. pd.read_csv)\n",
    "\n",
    "# Input data files are available in the read-only \"../input/\" directory\n",
    "# For example, running this (by clicking run or pressing Shift+Enter) will list all files under the input directory\n",
    "\n",
    "import os\n",
    "# for dirname, _, filenames in os.walk('/kaggle/input'):\n",
    "#     for filename in filenames:\n",
    "#         print(os.path.join(dirname, filename))\n",
    "\n",
    "# You can write up to 20GB to the current directory (/kaggle/working/) that gets preserved as output when you create a version using \"Save & Run All\" \n",
    "# You can also write temporary files to /kaggle/temp/, but they won't be saved outside of the current session"
   ]
  },
  {
   "cell_type": "code",
   "execution_count": 2,
   "id": "c63fab17",
   "metadata": {
    "execution": {
     "iopub.execute_input": "2022-02-19T19:40:10.095320Z",
     "iopub.status.busy": "2022-02-19T19:40:10.094589Z",
     "iopub.status.idle": "2022-02-19T19:40:16.988338Z",
     "shell.execute_reply": "2022-02-19T19:40:16.988834Z",
     "shell.execute_reply.started": "2022-02-19T19:32:33.747955Z"
    },
    "papermill": {
     "duration": 6.914257,
     "end_time": "2022-02-19T19:40:16.989019",
     "exception": false,
     "start_time": "2022-02-19T19:40:10.074762",
     "status": "completed"
    },
    "tags": []
   },
   "outputs": [],
   "source": [
    "\n",
    "import pandas as pd\n",
    "import numpy as np\n",
    "from tensorflow import keras\n",
    "from tensorflow.keras import Input\n",
    "from tensorflow.keras import models\n",
    "from tensorflow.keras import layers\n",
    "from tensorflow.keras import optimizers\n",
    "from tensorflow.keras import losses\n",
    "from tensorflow.keras import activations\n",
    "from tensorflow.keras import metrics\n",
    "from tensorflow.keras import callbacks\n",
    "from tensorflow.keras import utils\n",
    "from tensorflow.keras import backend as K\n",
    "from tensorflow.keras.utils import plot_model\n",
    "import tensorflow as tf\n",
    "from sklearn.model_selection import KFold, StratifiedKFold, TimeSeriesSplit\n",
    "from sklearn.preprocessing import StandardScaler\n",
    "from sklearn.preprocessing import RobustScaler, MinMaxScaler\n",
    "import scipy as sp"
   ]
  },
  {
   "cell_type": "code",
   "execution_count": 3,
   "id": "177b09c2",
   "metadata": {
    "execution": {
     "iopub.execute_input": "2022-02-19T19:40:17.017361Z",
     "iopub.status.busy": "2022-02-19T19:40:17.016760Z",
     "iopub.status.idle": "2022-02-19T19:41:14.737498Z",
     "shell.execute_reply": "2022-02-19T19:41:14.738181Z",
     "shell.execute_reply.started": "2022-02-19T19:32:40.279800Z"
    },
    "papermill": {
     "duration": 57.736495,
     "end_time": "2022-02-19T19:41:14.738371",
     "exception": false,
     "start_time": "2022-02-19T19:40:17.001876",
     "status": "completed"
    },
    "tags": []
   },
   "outputs": [],
   "source": [
    "fea_data = np.load('../input/ubiquant-train-data/train_std_data.npy')\n",
    "# inv_target = np.load('../input/ubiquant-train-data/inv_id.npy')\n",
    "target_f32 = pd.read_parquet('../input/ubiquant-parquet/train_low_mem.parquet')[['investment_id', 'target']]\n"
   ]
  },
  {
   "cell_type": "code",
   "execution_count": 4,
   "id": "724a005f",
   "metadata": {
    "execution": {
     "iopub.execute_input": "2022-02-19T19:41:14.770192Z",
     "iopub.status.busy": "2022-02-19T19:41:14.769488Z",
     "iopub.status.idle": "2022-02-19T19:41:17.022460Z",
     "shell.execute_reply": "2022-02-19T19:41:17.021240Z",
     "shell.execute_reply.started": "2022-02-19T19:33:31.772474Z"
    },
    "papermill": {
     "duration": 2.271402,
     "end_time": "2022-02-19T19:41:17.022624",
     "exception": false,
     "start_time": "2022-02-19T19:41:14.751222",
     "status": "completed"
    },
    "tags": []
   },
   "outputs": [],
   "source": [
    "target_f32['lisandu'] = target_f32.groupby('investment_id')['target'].transform(lambda x: len(x.unique()))"
   ]
  },
  {
   "cell_type": "code",
   "execution_count": 5,
   "id": "e723d3e8",
   "metadata": {
    "execution": {
     "iopub.execute_input": "2022-02-19T19:41:17.055292Z",
     "iopub.status.busy": "2022-02-19T19:41:17.054140Z",
     "iopub.status.idle": "2022-02-19T19:41:17.089827Z",
     "shell.execute_reply": "2022-02-19T19:41:17.089203Z",
     "shell.execute_reply.started": "2022-02-19T19:33:33.828427Z"
    },
    "papermill": {
     "duration": 0.055,
     "end_time": "2022-02-19T19:41:17.089961",
     "exception": false,
     "start_time": "2022-02-19T19:41:17.034961",
     "status": "completed"
    },
    "tags": []
   },
   "outputs": [
    {
     "name": "stdout",
     "output_type": "stream",
     "text": [
      "0.001\n",
      "1.0009999999999997\n"
     ]
    }
   ],
   "source": [
    "lsd_target = target_f32['lisandu'].values\n",
    "scaler = MinMaxScaler(feature_range=(1e-3, 1 + 1e-3))\n",
    "lsd_target = scaler.fit_transform(lsd_target.reshape(-1, 1))\n",
    "print(lsd_target.min())\n",
    "print(lsd_target.max())"
   ]
  },
  {
   "cell_type": "code",
   "execution_count": 6,
   "id": "8e9e36b9",
   "metadata": {
    "execution": {
     "iopub.execute_input": "2022-02-19T19:41:17.120834Z",
     "iopub.status.busy": "2022-02-19T19:41:17.119784Z",
     "iopub.status.idle": "2022-02-19T19:41:17.122430Z",
     "shell.execute_reply": "2022-02-19T19:41:17.121937Z",
     "shell.execute_reply.started": "2022-02-19T19:33:33.868510Z"
    },
    "papermill": {
     "duration": 0.019442,
     "end_time": "2022-02-19T19:41:17.122569",
     "exception": false,
     "start_time": "2022-02-19T19:41:17.103127",
     "status": "completed"
    },
    "tags": []
   },
   "outputs": [],
   "source": [
    "# inv_lookup = layers.experimental.preprocessing.IntegerLookup(num_oov_indices=0)\n",
    "# inv_lookup.adapt(inv_target)\n",
    "# inv_target = inv_lookup(inv_target).numpy().astype('int16')\n",
    "# input_dim = fea_data.shape[-1]\n",
    "# inv_num = len(inv_lookup.get_vocabulary())\n",
    "\n",
    "# print(input_dim, inv_num)"
   ]
  },
  {
   "cell_type": "code",
   "execution_count": 7,
   "id": "d6f6fca1",
   "metadata": {
    "execution": {
     "iopub.execute_input": "2022-02-19T19:41:17.158145Z",
     "iopub.status.busy": "2022-02-19T19:41:17.156678Z",
     "iopub.status.idle": "2022-02-19T19:41:17.160218Z",
     "shell.execute_reply": "2022-02-19T19:41:17.160810Z",
     "shell.execute_reply.started": "2022-02-19T19:33:33.874579Z"
    },
    "papermill": {
     "duration": 0.02526,
     "end_time": "2022-02-19T19:41:17.160977",
     "exception": false,
     "start_time": "2022-02-19T19:41:17.135717",
     "status": "completed"
    },
    "tags": []
   },
   "outputs": [],
   "source": [
    "\n",
    "def build_inv_encoder(input_dim, noise_rate=0.05):\n",
    "    the_input = Input(shape=(input_dim,), dtype='float32')\n",
    "    encode = layers.BatchNormalization()(the_input)\n",
    "    encode = layers.GaussianNoise(noise_rate)(encode)\n",
    "    encode = layers.Dense(256, activation=activations.swish)(encode)\n",
    "    decode = layers.Dropout(0.2)(encode)\n",
    "#     decode = layers.Dense(input_dim, name='decode')(decode)\n",
    "    x = layers.Dense(256, use_bias=False)(decode)\n",
    "    x = layers.BatchNormalization()(x)\n",
    "    x = layers.Activation(activations.swish)(x)\n",
    "    x = layers.Dropout(0.3)(x)\n",
    "    x = layers.Dense(1, name='inv_classify')(x)\n",
    "\n",
    "    inv_encoder = models.Model(inputs=[the_input], outputs=[encode])\n",
    "    inv_autoencoder = models.Model(inputs=[the_input], outputs=[x])\n",
    "    inv_autoencoder.compile(optimizer=optimizers.Adam(),\n",
    "                            loss='mse')\n",
    "    return inv_autoencoder, inv_encoder\n"
   ]
  },
  {
   "cell_type": "code",
   "execution_count": 8,
   "id": "5904b0de",
   "metadata": {
    "execution": {
     "iopub.execute_input": "2022-02-19T19:41:17.194196Z",
     "iopub.status.busy": "2022-02-19T19:41:17.193136Z",
     "iopub.status.idle": "2022-02-19T19:41:17.195830Z",
     "shell.execute_reply": "2022-02-19T19:41:17.195346Z",
     "shell.execute_reply.started": "2022-02-19T19:33:33.888279Z"
    },
    "papermill": {
     "duration": 0.022351,
     "end_time": "2022-02-19T19:41:17.195969",
     "exception": false,
     "start_time": "2022-02-19T19:41:17.173618",
     "status": "completed"
    },
    "tags": []
   },
   "outputs": [],
   "source": [
    "def make_dataset(feature, y, batch_size=512, mode=\"train\", to='mlp'):\n",
    "    if to == 'mlp':\n",
    "        ds = tf.data.Dataset.from_tensor_slices((feature, y))\n",
    "    else:\n",
    "        ds = tf.data.Dataset.from_tensor_slices((feature, (feature, y)))\n",
    "    if mode == \"train\":\n",
    "        ds = ds.shuffle(4096, seed=145, reshuffle_each_iteration=True)\n",
    "    ds = ds.batch(batch_size).prefetch(tf.data.experimental.AUTOTUNE)\n",
    "    return ds"
   ]
  },
  {
   "cell_type": "code",
   "execution_count": 9,
   "id": "144b7cf7",
   "metadata": {
    "execution": {
     "iopub.execute_input": "2022-02-19T19:41:17.225961Z",
     "iopub.status.busy": "2022-02-19T19:41:17.224965Z",
     "iopub.status.idle": "2022-02-19T19:41:21.281042Z",
     "shell.execute_reply": "2022-02-19T19:41:21.280519Z",
     "shell.execute_reply.started": "2022-02-19T19:33:33.899767Z"
    },
    "papermill": {
     "duration": 4.072465,
     "end_time": "2022-02-19T19:41:21.281211",
     "exception": false,
     "start_time": "2022-02-19T19:41:17.208746",
     "status": "completed"
    },
    "tags": []
   },
   "outputs": [
    {
     "name": "stderr",
     "output_type": "stream",
     "text": [
      "2022-02-19 19:41:19.038926: I tensorflow/core/common_runtime/process_util.cc:146] Creating new thread pool with default inter op setting: 2. Tune using inter_op_parallelism_threads for best performance.\n"
     ]
    },
    {
     "name": "stdout",
     "output_type": "stream",
     "text": [
      "<PrefetchDataset shapes: ((None, 300), (None, 1)), types: (tf.float16, tf.float64)>\n",
      "<PrefetchDataset shapes: ((None, 300), (None, 1)), types: (tf.float16, tf.float64)>\n"
     ]
    }
   ],
   "source": [
    "kfold = KFold(n_splits=6, shuffle=True, random_state=113)\n",
    "for (train_ind, test_ind) in kfold.split(fea_data, lsd_target):\n",
    "    train_ds = make_dataset(fea_data[train_ind], lsd_target[train_ind])\n",
    "    test_ds = make_dataset(fea_data[test_ind], lsd_target[test_ind], mode='valid')\n",
    "    break\n",
    "print(train_ds)\n",
    "print(test_ds)\n"
   ]
  },
  {
   "cell_type": "code",
   "execution_count": 10,
   "id": "202769fa",
   "metadata": {
    "execution": {
     "iopub.execute_input": "2022-02-19T19:41:21.314381Z",
     "iopub.status.busy": "2022-02-19T19:41:21.313607Z",
     "iopub.status.idle": "2022-02-19T19:41:21.317025Z",
     "shell.execute_reply": "2022-02-19T19:41:21.316542Z",
     "shell.execute_reply.started": "2022-02-19T19:33:38.037680Z"
    },
    "papermill": {
     "duration": 0.022467,
     "end_time": "2022-02-19T19:41:21.317192",
     "exception": false,
     "start_time": "2022-02-19T19:41:21.294725",
     "status": "completed"
    },
    "tags": []
   },
   "outputs": [],
   "source": [
    "callback = [callbacks.ReduceLROnPlateau(monitor='val_loss', patience=7, factor=0.55, verbose=1),\n",
    "            callbacks.EarlyStopping(monitor='val_loss', patience=18, restore_best_weights=True, min_delta=0.001)]"
   ]
  },
  {
   "cell_type": "code",
   "execution_count": 11,
   "id": "2318d72d",
   "metadata": {
    "execution": {
     "iopub.execute_input": "2022-02-19T19:41:21.350334Z",
     "iopub.status.busy": "2022-02-19T19:41:21.349647Z",
     "iopub.status.idle": "2022-02-19T20:30:10.137359Z",
     "shell.execute_reply": "2022-02-19T20:30:10.137933Z",
     "shell.execute_reply.started": "2022-02-19T19:33:38.044772Z"
    },
    "papermill": {
     "duration": 2928.807441,
     "end_time": "2022-02-19T20:30:10.138140",
     "exception": false,
     "start_time": "2022-02-19T19:41:21.330699",
     "status": "completed"
    },
    "tags": []
   },
   "outputs": [
    {
     "name": "stdout",
     "output_type": "stream",
     "text": [
      "Model: \"model_1\"\n",
      "_________________________________________________________________\n",
      "Layer (type)                 Output Shape              Param #   \n",
      "=================================================================\n",
      "input_1 (InputLayer)         [(None, 300)]             0         \n",
      "_________________________________________________________________\n",
      "batch_normalization (BatchNo (None, 300)               1200      \n",
      "_________________________________________________________________\n",
      "gaussian_noise (GaussianNois (None, 300)               0         \n",
      "_________________________________________________________________\n",
      "dense (Dense)                (None, 256)               77056     \n",
      "_________________________________________________________________\n",
      "dropout (Dropout)            (None, 256)               0         \n",
      "_________________________________________________________________\n",
      "dense_1 (Dense)              (None, 256)               65536     \n",
      "_________________________________________________________________\n",
      "batch_normalization_1 (Batch (None, 256)               1024      \n",
      "_________________________________________________________________\n",
      "activation (Activation)      (None, 256)               0         \n",
      "_________________________________________________________________\n",
      "dropout_1 (Dropout)          (None, 256)               0         \n",
      "_________________________________________________________________\n",
      "inv_classify (Dense)         (None, 1)                 257       \n",
      "=================================================================\n",
      "Total params: 145,073\n",
      "Trainable params: 143,961\n",
      "Non-trainable params: 1,112\n",
      "_________________________________________________________________\n",
      "None\n",
      "Epoch 1/50\n"
     ]
    },
    {
     "name": "stderr",
     "output_type": "stream",
     "text": [
      "2022-02-19 19:41:24.695072: I tensorflow/compiler/mlir/mlir_graph_optimization_pass.cc:185] None of the MLIR Optimization Passes are enabled (registered 2)\n"
     ]
    },
    {
     "name": "stdout",
     "output_type": "stream",
     "text": [
      "5113/5113 [==============================] - 97s 19ms/step - loss: 0.0302 - val_loss: 0.0763\n",
      "Epoch 2/50\n",
      "5113/5113 [==============================] - 97s 19ms/step - loss: 0.0115 - val_loss: 0.0366\n",
      "Epoch 3/50\n",
      "5113/5113 [==============================] - 95s 19ms/step - loss: 0.0107 - val_loss: 0.0458\n",
      "Epoch 4/50\n",
      "5113/5113 [==============================] - 97s 19ms/step - loss: 0.0103 - val_loss: 0.0367\n",
      "Epoch 5/50\n",
      "5113/5113 [==============================] - 98s 19ms/step - loss: 0.0100 - val_loss: 0.0407\n",
      "Epoch 6/50\n",
      "5113/5113 [==============================] - 98s 19ms/step - loss: 0.0098 - val_loss: 0.0357\n",
      "Epoch 7/50\n",
      "5113/5113 [==============================] - 99s 19ms/step - loss: 0.0096 - val_loss: 0.0324\n",
      "Epoch 8/50\n",
      "5113/5113 [==============================] - 97s 19ms/step - loss: 0.0095 - val_loss: 0.0334\n",
      "Epoch 9/50\n",
      "5113/5113 [==============================] - 97s 19ms/step - loss: 0.0094 - val_loss: 0.0331\n",
      "Epoch 10/50\n",
      "5113/5113 [==============================] - 99s 19ms/step - loss: 0.0093 - val_loss: 0.0324\n",
      "Epoch 11/50\n",
      "5113/5113 [==============================] - 97s 19ms/step - loss: 0.0092 - val_loss: 0.0337\n",
      "Epoch 12/50\n",
      "5113/5113 [==============================] - 99s 19ms/step - loss: 0.0092 - val_loss: 0.0330\n",
      "Epoch 13/50\n",
      "5113/5113 [==============================] - 97s 19ms/step - loss: 0.0091 - val_loss: 0.0327\n",
      "Epoch 14/50\n",
      "5113/5113 [==============================] - 100s 19ms/step - loss: 0.0091 - val_loss: 0.0338\n",
      "\n",
      "Epoch 00014: ReduceLROnPlateau reducing learning rate to 0.0005500000261235982.\n",
      "Epoch 15/50\n",
      "5113/5113 [==============================] - 99s 19ms/step - loss: 0.0092 - val_loss: 0.0334\n",
      "Epoch 16/50\n",
      "5113/5113 [==============================] - 97s 19ms/step - loss: 0.0091 - val_loss: 0.0329\n",
      "Epoch 17/50\n",
      "5113/5113 [==============================] - 97s 19ms/step - loss: 0.0090 - val_loss: 0.0331\n",
      "Epoch 18/50\n",
      "5113/5113 [==============================] - 96s 19ms/step - loss: 0.0090 - val_loss: 0.0334\n",
      "Epoch 19/50\n",
      "5113/5113 [==============================] - 92s 18ms/step - loss: 0.0090 - val_loss: 0.0335\n",
      "Epoch 20/50\n",
      "5113/5113 [==============================] - 98s 19ms/step - loss: 0.0090 - val_loss: 0.0334\n",
      "Epoch 21/50\n",
      "5113/5113 [==============================] - 98s 19ms/step - loss: 0.0089 - val_loss: 0.0345\n",
      "\n",
      "Epoch 00021: ReduceLROnPlateau reducing learning rate to 0.0003024999983608723.\n",
      "Epoch 22/50\n",
      "5113/5113 [==============================] - 94s 18ms/step - loss: 0.0091 - val_loss: 0.0326\n",
      "Epoch 23/50\n",
      "5113/5113 [==============================] - 96s 19ms/step - loss: 0.0090 - val_loss: 0.0328\n",
      "Epoch 24/50\n",
      "5113/5113 [==============================] - 98s 19ms/step - loss: 0.0090 - val_loss: 0.0342\n",
      "Epoch 25/50\n",
      "5113/5113 [==============================] - 99s 19ms/step - loss: 0.0090 - val_loss: 0.0327\n"
     ]
    }
   ],
   "source": [
    "inv_autoencoder, inv_encoder = build_inv_encoder(300)\n",
    "print(inv_autoencoder.summary())\n",
    "plot_model(inv_autoencoder, './inv_encoder.png')\n",
    "inv_autoencoder.fit(train_ds,\n",
    "                    epochs=50,\n",
    "                    validation_data=test_ds,\n",
    "                    callbacks=callback,\n",
    "                    verbose=1)\n",
    "inv_encoder.trainable = False\n",
    "K.clear_session()"
   ]
  }
 ],
 "metadata": {
  "kernelspec": {
   "display_name": "Python 3",
   "language": "python",
   "name": "python3"
  },
  "language_info": {
   "codemirror_mode": {
    "name": "ipython",
    "version": 3
   },
   "file_extension": ".py",
   "mimetype": "text/x-python",
   "name": "python",
   "nbconvert_exporter": "python",
   "pygments_lexer": "ipython3",
   "version": "3.7.12"
  },
  "papermill": {
   "default_parameters": {},
   "duration": 3027.642974,
   "end_time": "2022-02-19T20:30:27.723655",
   "environment_variables": {},
   "exception": null,
   "input_path": "__notebook__.ipynb",
   "output_path": "__notebook__.ipynb",
   "parameters": {},
   "start_time": "2022-02-19T19:40:00.080681",
   "version": "2.3.3"
  }
 },
 "nbformat": 4,
 "nbformat_minor": 5
}
