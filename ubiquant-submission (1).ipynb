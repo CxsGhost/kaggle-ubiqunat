{
 "cells": [
  {
   "cell_type": "code",
   "execution_count": 1,
   "id": "c1183883",
   "metadata": {
    "_cell_guid": "b1076dfc-b9ad-4769-8c92-a6c4dae69d19",
    "_uuid": "8f2839f25d086af736a60e9eeb907d3b93b6e0e5",
    "execution": {
     "iopub.execute_input": "2022-04-18T03:36:03.127953Z",
     "iopub.status.busy": "2022-04-18T03:36:03.127123Z",
     "iopub.status.idle": "2022-04-18T03:36:03.139957Z",
     "shell.execute_reply": "2022-04-18T03:36:03.138952Z",
     "shell.execute_reply.started": "2022-04-15T18:37:04.79561Z"
    },
    "papermill": {
     "duration": 0.044528,
     "end_time": "2022-04-18T03:36:03.140265",
     "exception": false,
     "start_time": "2022-04-18T03:36:03.095737",
     "status": "completed"
    },
    "tags": []
   },
   "outputs": [],
   "source": [
    "# This Python 3 environment comes with many helpful analytics libraries installed\n",
    "# It is defined by the kaggle/python Docker image: https://github.com/kaggle/docker-python\n",
    "# For example, here's several helpful packages to load\n",
    "\n",
    "import numpy as np # linear algebra\n",
    "import pandas as pd # data processing, CSV file I/O (e.g. pd.read_csv)\n",
    "\n",
    "# Input data files are available in the read-only \"../input/\" directory\n",
    "# For example, running this (by clicking run or pressing Shift+Enter) will list all files under the input directory\n",
    "\n",
    "import os\n",
    "\n",
    "# You can write up to 20GB to the current directory (/kaggle/working/) that gets preserved as output when you create a version using \"Save & Run All\" \n",
    "# You can also write temporary files to /kaggle/temp/, but they won't be saved outside of the current session"
   ]
  },
  {
   "cell_type": "code",
   "execution_count": 2,
   "id": "bfda337d",
   "metadata": {
    "execution": {
     "iopub.execute_input": "2022-04-18T03:36:03.190206Z",
     "iopub.status.busy": "2022-04-18T03:36:03.188605Z",
     "iopub.status.idle": "2022-04-18T03:36:08.677695Z",
     "shell.execute_reply": "2022-04-18T03:36:08.677003Z",
     "shell.execute_reply.started": "2022-04-15T18:37:04.830185Z"
    },
    "papermill": {
     "duration": 5.518144,
     "end_time": "2022-04-18T03:36:08.677825",
     "exception": false,
     "start_time": "2022-04-18T03:36:03.159681",
     "status": "completed"
    },
    "tags": []
   },
   "outputs": [],
   "source": [
    "import pickle\n",
    "import pandas as pd\n",
    "import numpy as np\n",
    "from tensorflow import keras\n",
    "from tensorflow.keras import Input\n",
    "from tensorflow.keras import models\n",
    "from tensorflow.keras import layers\n",
    "from tensorflow.keras import optimizers\n",
    "from tensorflow.keras import losses\n",
    "from tensorflow.keras import activations\n",
    "from tensorflow.keras import metrics\n",
    "from tensorflow.keras import callbacks\n",
    "from tensorflow.keras import backend as K\n",
    "from tensorflow.keras.utils import plot_model\n",
    "import tensorflow as tf\n",
    "from sklearn.model_selection import KFold\n",
    "from sklearn.preprocessing import StandardScaler\n",
    "from sklearn.preprocessing import RobustScaler\n"
   ]
  },
  {
   "cell_type": "code",
   "execution_count": 3,
   "id": "34e990bd",
   "metadata": {
    "execution": {
     "iopub.execute_input": "2022-04-18T03:36:08.701306Z",
     "iopub.status.busy": "2022-04-18T03:36:08.700431Z",
     "iopub.status.idle": "2022-04-18T03:36:08.702932Z",
     "shell.execute_reply": "2022-04-18T03:36:08.702488Z",
     "shell.execute_reply.started": "2022-04-15T18:37:11.516909Z"
    },
    "papermill": {
     "duration": 0.015861,
     "end_time": "2022-04-18T03:36:08.703056",
     "exception": false,
     "start_time": "2022-04-18T03:36:08.687195",
     "status": "completed"
    },
    "tags": []
   },
   "outputs": [],
   "source": [
    "\n",
    "# inv_id = np.load('../input/ubiquant-train-data/inv_id.npy')\n",
    "# inv_encoder = keras.layers.experimental.preprocessing.IntegerLookup()\n",
    "# inv_encoder.adapt(inv_id)\n",
    "# inv_vocb = len(inv_encoder.get_vocabulary())"
   ]
  },
  {
   "cell_type": "code",
   "execution_count": 4,
   "id": "af8a1771",
   "metadata": {
    "execution": {
     "iopub.execute_input": "2022-04-18T03:36:08.726918Z",
     "iopub.status.busy": "2022-04-18T03:36:08.726111Z",
     "iopub.status.idle": "2022-04-18T03:37:04.372904Z",
     "shell.execute_reply": "2022-04-18T03:37:04.372035Z",
     "shell.execute_reply.started": "2022-04-15T18:37:11.524626Z"
    },
    "papermill": {
     "duration": 55.660958,
     "end_time": "2022-04-18T03:37:04.373063",
     "exception": false,
     "start_time": "2022-04-18T03:36:08.712105",
     "status": "completed"
    },
    "tags": []
   },
   "outputs": [
    {
     "name": "stdout",
     "output_type": "stream",
     "text": [
      "(3141410, 304)\n"
     ]
    }
   ],
   "source": [
    "\n",
    "data = pd.read_parquet('../input/ubiquant-parquet/train_low_mem.parquet')\n",
    "print(data.shape)\n",
    "\n",
    "data = data.drop(columns=['time_id', 'row_id', 'investment_id', 'target']).values\n",
    "scaler = StandardScaler()\n",
    "scaler.fit(data)\n",
    "data = None"
   ]
  },
  {
   "cell_type": "code",
   "execution_count": 5,
   "id": "82934fdd",
   "metadata": {
    "execution": {
     "iopub.execute_input": "2022-04-18T03:37:04.397022Z",
     "iopub.status.busy": "2022-04-18T03:37:04.396404Z",
     "iopub.status.idle": "2022-04-18T03:37:04.399389Z",
     "shell.execute_reply": "2022-04-18T03:37:04.398985Z",
     "shell.execute_reply.started": "2022-04-15T18:38:08.935347Z"
    },
    "papermill": {
     "duration": 0.016662,
     "end_time": "2022-04-18T03:37:04.399501",
     "exception": false,
     "start_time": "2022-04-18T03:37:04.382839",
     "status": "completed"
    },
    "tags": []
   },
   "outputs": [],
   "source": [
    "input_dim = 300"
   ]
  },
  {
   "cell_type": "code",
   "execution_count": 6,
   "id": "7914e002",
   "metadata": {
    "execution": {
     "iopub.execute_input": "2022-04-18T03:37:04.426120Z",
     "iopub.status.busy": "2022-04-18T03:37:04.425576Z",
     "iopub.status.idle": "2022-04-18T03:37:04.428326Z",
     "shell.execute_reply": "2022-04-18T03:37:04.427933Z",
     "shell.execute_reply.started": "2022-04-15T18:38:08.941637Z"
    },
    "papermill": {
     "duration": 0.01956,
     "end_time": "2022-04-18T03:37:04.428445",
     "exception": false,
     "start_time": "2022-04-18T03:37:04.408885",
     "status": "completed"
    },
    "tags": []
   },
   "outputs": [],
   "source": [
    "def build_encoder(input_dim, noise_rate=0.05):\n",
    "    ori_input = Input(shape=(input_dim,), dtype='float16')\n",
    "    encode = layers.BatchNormalization()(ori_input)\n",
    "    encode = layers.GaussianNoise(stddev=noise_rate)(encode)\n",
    "    encode = layers.Dense(256)(encode)\n",
    "    encode = Mish()(encode)\n",
    "    decode = layers.Dropout(0.1)(encode)\n",
    "    decode = layers.Dense(input_dim, name='decoded')(decode)\n",
    "    x = layers.Dense(265, use_bias=False)(decode)\n",
    "    x = layers.BatchNormalization()(x)\n",
    "    x = Mish()(x)\n",
    "    x = layers.Dropout(0.4)(x)\n",
    "    x = layers.Dense(1, name='target')(x)\n",
    "\n",
    "    encoder = models.Model(inputs=[ori_input], outputs=[encode])\n",
    "    autoencoder = models.Model(inputs=[ori_input], outputs=[decode, x])\n",
    "    return autoencoder, encoder"
   ]
  },
  {
   "cell_type": "code",
   "execution_count": 7,
   "id": "e2794af5",
   "metadata": {
    "execution": {
     "iopub.execute_input": "2022-04-18T03:37:04.452726Z",
     "iopub.status.busy": "2022-04-18T03:37:04.452061Z",
     "iopub.status.idle": "2022-04-18T03:37:04.454922Z",
     "shell.execute_reply": "2022-04-18T03:37:04.454402Z",
     "shell.execute_reply.started": "2022-04-15T18:38:08.955851Z"
    },
    "papermill": {
     "duration": 0.017172,
     "end_time": "2022-04-18T03:37:04.455037",
     "exception": false,
     "start_time": "2022-04-18T03:37:04.437865",
     "status": "completed"
    },
    "tags": []
   },
   "outputs": [],
   "source": [
    "class Mish(layers.Layer):\n",
    "    def __init__(self, **kwargs):\n",
    "        super(Mish, self).__init__(**kwargs)\n",
    "\n",
    "    def call(self, inputs, *args, **kwargs):\n",
    "        return inputs * K.tanh(K.softplus(inputs))"
   ]
  },
  {
   "cell_type": "code",
   "execution_count": 8,
   "id": "3f3a60e1",
   "metadata": {
    "execution": {
     "iopub.execute_input": "2022-04-18T03:37:04.478595Z",
     "iopub.status.busy": "2022-04-18T03:37:04.477946Z",
     "iopub.status.idle": "2022-04-18T03:37:04.480173Z",
     "shell.execute_reply": "2022-04-18T03:37:04.480566Z",
     "shell.execute_reply.started": "2022-04-15T18:38:08.968622Z"
    },
    "papermill": {
     "duration": 0.01625,
     "end_time": "2022-04-18T03:37:04.480703",
     "exception": false,
     "start_time": "2022-04-18T03:37:04.464453",
     "status": "completed"
    },
    "tags": []
   },
   "outputs": [],
   "source": [
    "class Squeeze(layers.Layer):\n",
    "    def __init__(self, **kwargs):\n",
    "        super(Squeeze, self).__init__(**kwargs)\n",
    "\n",
    "    def call(self, inputs, *args, **kwargs):\n",
    "        return K.squeeze(inputs, axis=1)"
   ]
  },
  {
   "cell_type": "code",
   "execution_count": 9,
   "id": "25cb4554",
   "metadata": {
    "execution": {
     "iopub.execute_input": "2022-04-18T03:37:04.510126Z",
     "iopub.status.busy": "2022-04-18T03:37:04.509348Z",
     "iopub.status.idle": "2022-04-18T03:37:04.511781Z",
     "shell.execute_reply": "2022-04-18T03:37:04.511347Z",
     "shell.execute_reply.started": "2022-04-15T18:38:08.978589Z"
    },
    "papermill": {
     "duration": 0.021605,
     "end_time": "2022-04-18T03:37:04.511897",
     "exception": false,
     "start_time": "2022-04-18T03:37:04.490292",
     "status": "completed"
    },
    "tags": []
   },
   "outputs": [],
   "source": [
    "def build_model(encoder):\n",
    "    ox_input = Input(shape=(input_dim,), dtype='float16')\n",
    "    ox_enco = encoder(ox_input)\n",
    "\n",
    "    x = layers.Dense(512, use_bias=False)(ox_input)\n",
    "    x = layers.BatchNormalization()(x)\n",
    "    x = Mish()(x)\n",
    "    x = layers.Dropout(0.5)(x)\n",
    "    x = layers.Dense(128)(x)\n",
    "    x = Mish()(x)\n",
    "\n",
    "    x = layers.Concatenate()([x, ox_enco])\n",
    "    x = layers.BatchNormalization()(x)\n",
    "    x = layers.Dense(512, use_bias=False)(x)\n",
    "    x = layers.BatchNormalization()(x)\n",
    "    x = Mish()(x)\n",
    "    x = layers.Dropout(0.4)(x)\n",
    "    x = layers.Dense(256, use_bias=False)(x)\n",
    "    x = layers.BatchNormalization()(x)\n",
    "    x = Mish()(x)\n",
    "    x = layers.Dropout(0.3)(x)\n",
    "    x = layers.Dense(256, use_bias=False)(x)\n",
    "    x = layers.BatchNormalization()(x)\n",
    "    x = Mish()(x)\n",
    "    x = layers.Dropout(0.3)(x)\n",
    "    x = layers.Dense(128, use_bias=False)(x)\n",
    "    x = layers.BatchNormalization()(x)\n",
    "    x = Mish()(x)\n",
    "    x = layers.Dropout(0.4)(x)\n",
    "    output = layers.Dense(1)(x)\n",
    "    model = models.Model(inputs=[ox_input], outputs=[output])\n",
    "    return model"
   ]
  },
  {
   "cell_type": "code",
   "execution_count": 10,
   "id": "a5cb4e02",
   "metadata": {
    "execution": {
     "iopub.execute_input": "2022-04-18T03:37:04.534520Z",
     "iopub.status.busy": "2022-04-18T03:37:04.534012Z",
     "iopub.status.idle": "2022-04-18T03:37:04.556952Z",
     "shell.execute_reply": "2022-04-18T03:37:04.556503Z",
     "shell.execute_reply.started": "2022-04-15T18:38:08.992991Z"
    },
    "papermill": {
     "duration": 0.035856,
     "end_time": "2022-04-18T03:37:04.557067",
     "exception": false,
     "start_time": "2022-04-18T03:37:04.521211",
     "status": "completed"
    },
    "tags": []
   },
   "outputs": [],
   "source": [
    "import ubiquant\n",
    "env = ubiquant.make_env()   # initialize the environment\n",
    "iter_test = env.iter_test()  "
   ]
  },
  {
   "cell_type": "code",
   "execution_count": 11,
   "id": "8dc593bc",
   "metadata": {
    "execution": {
     "iopub.execute_input": "2022-04-18T03:37:04.583222Z",
     "iopub.status.busy": "2022-04-18T03:37:04.582665Z",
     "iopub.status.idle": "2022-04-18T03:37:14.011018Z",
     "shell.execute_reply": "2022-04-18T03:37:14.010526Z",
     "shell.execute_reply.started": "2022-04-15T18:38:09.027599Z"
    },
    "papermill": {
     "duration": 9.44451,
     "end_time": "2022-04-18T03:37:14.011143",
     "exception": false,
     "start_time": "2022-04-18T03:37:04.566633",
     "status": "completed"
    },
    "tags": []
   },
   "outputs": [
    {
     "name": "stderr",
     "output_type": "stream",
     "text": [
      "2022-04-18 03:37:04.703429: I tensorflow/stream_executor/cuda/cuda_gpu_executor.cc:937] successful NUMA node read from SysFS had negative value (-1), but there must be at least one NUMA node, so returning NUMA node zero\n",
      "2022-04-18 03:37:04.823103: I tensorflow/stream_executor/cuda/cuda_gpu_executor.cc:937] successful NUMA node read from SysFS had negative value (-1), but there must be at least one NUMA node, so returning NUMA node zero\n",
      "2022-04-18 03:37:04.823906: I tensorflow/stream_executor/cuda/cuda_gpu_executor.cc:937] successful NUMA node read from SysFS had negative value (-1), but there must be at least one NUMA node, so returning NUMA node zero\n",
      "2022-04-18 03:37:04.825103: I tensorflow/core/platform/cpu_feature_guard.cc:142] This TensorFlow binary is optimized with oneAPI Deep Neural Network Library (oneDNN) to use the following CPU instructions in performance-critical operations:  AVX2 AVX512F FMA\n",
      "To enable them in other operations, rebuild TensorFlow with the appropriate compiler flags.\n",
      "2022-04-18 03:37:04.825435: I tensorflow/stream_executor/cuda/cuda_gpu_executor.cc:937] successful NUMA node read from SysFS had negative value (-1), but there must be at least one NUMA node, so returning NUMA node zero\n",
      "2022-04-18 03:37:04.826178: I tensorflow/stream_executor/cuda/cuda_gpu_executor.cc:937] successful NUMA node read from SysFS had negative value (-1), but there must be at least one NUMA node, so returning NUMA node zero\n",
      "2022-04-18 03:37:04.826859: I tensorflow/stream_executor/cuda/cuda_gpu_executor.cc:937] successful NUMA node read from SysFS had negative value (-1), but there must be at least one NUMA node, so returning NUMA node zero\n",
      "2022-04-18 03:37:06.677852: I tensorflow/stream_executor/cuda/cuda_gpu_executor.cc:937] successful NUMA node read from SysFS had negative value (-1), but there must be at least one NUMA node, so returning NUMA node zero\n",
      "2022-04-18 03:37:06.678688: I tensorflow/stream_executor/cuda/cuda_gpu_executor.cc:937] successful NUMA node read from SysFS had negative value (-1), but there must be at least one NUMA node, so returning NUMA node zero\n",
      "2022-04-18 03:37:06.679366: I tensorflow/stream_executor/cuda/cuda_gpu_executor.cc:937] successful NUMA node read from SysFS had negative value (-1), but there must be at least one NUMA node, so returning NUMA node zero\n",
      "2022-04-18 03:37:06.680942: I tensorflow/core/common_runtime/gpu/gpu_device.cc:1510] Created device /job:localhost/replica:0/task:0/device:GPU:0 with 15403 MB memory:  -> device: 0, name: Tesla P100-PCIE-16GB, pci bus id: 0000:00:04.0, compute capability: 6.0\n"
     ]
    },
    {
     "name": "stdout",
     "output_type": "stream",
     "text": [
      "23\n"
     ]
    }
   ],
   "source": [
    "weights = ['../input/ubiquantbigdropbt512weights/origin-bigdrop-bt512-test-1-ep8-loss0.8170.h5',\n",
    "          '../input/ubiquantbigdropbt512weights/origin-bigdrop-bt512-test-10-ep8-loss0.8171.h5',\n",
    "          '../input/ubiquantbigdropbt512weights/origin-bigdrop-bt512-test-11-ep8-loss0.8174.h5',\n",
    "          '../input/ubiquantbigdropbt512weights/origin-bigdrop-bt512-test-12-ep8-loss0.8181.h5',\n",
    "          '../input/ubiquantbigdropbt512weights/origin-bigdrop-bt512-test-2-ep8-loss0.8170.h5',\n",
    "          '../input/ubiquantbigdropbt512weights/origin-bigdrop-bt512-test-3-ep8-loss0.8181.h5',\n",
    "          '../input/ubiquantbigdropbt512weights/origin-bigdrop-bt512-test-4-ep8-loss0.8191.h5',\n",
    "          '../input/ubiquantbigdropbt512weights/origin-bigdrop-bt512-test-5-ep8-loss0.8176.h5',\n",
    "          '../input/ubiquantbigdropbt512weights/origin-bigdrop-bt512-test-6-ep8-loss0.8170.h5',\n",
    "          '../input/ubiquantbigdropbt512weights/origin-bigdrop-bt512-test-7-ep8-loss0.8175.h5',\n",
    "          '../input/ubiquantbigdropbt512weights/origin-bigdrop-bt512-test-9-ep8-loss0.8182.h5',\n",
    "          \n",
    "           '../input/ubiquantbigdrop1bt512weights/origin-bigdrop-1-bt512-test-1-ep8-loss0.8173.h5',\n",
    "          '../input/ubiquantbigdrop1bt512weights/origin-bigdrop-1-bt512-test-10-ep8-loss0.8175.h5',\n",
    "          '../input/ubiquantbigdrop1bt512weights/origin-bigdrop-1-bt512-test-11-ep8-loss0.8181.h5',\n",
    "          '../input/ubiquantbigdrop1bt512weights/origin-bigdrop-1-bt512-test-12-ep8-loss0.8185.h5',\n",
    "          '../input/ubiquantbigdrop1bt512weights/origin-bigdrop-1-bt512-test-2-ep8-loss0.8176.h5',\n",
    "          '../input/ubiquantbigdrop1bt512weights/origin-bigdrop-1-bt512-test-3-ep8-loss0.8182.h5',\n",
    "          '../input/ubiquantbigdrop1bt512weights/origin-bigdrop-1-bt512-test-4-ep8-loss0.8178.h5',\n",
    "          '../input/ubiquantbigdrop1bt512weights/origin-bigdrop-1-bt512-test-5-ep8-loss0.8183.h5',\n",
    "          '../input/ubiquantbigdrop1bt512weights/origin-bigdrop-1-bt512-test-6-ep8-loss0.8185.h5',\n",
    "          '../input/ubiquantbigdrop1bt512weights/origin-bigdrop-1-bt512-test-7-ep8-loss0.8171.h5',\n",
    "          '../input/ubiquantbigdrop1bt512weights/origin-bigdrop-1-bt512-test-8-ep8-loss0.8176.h5',\n",
    "          '../input/ubiquantbigdrop1bt512weights/origin-bigdrop-1-bt512-test-9-ep8-loss0.8172.h5']\n",
    "\n",
    "model = []\n",
    "for w in weights:\n",
    "    autoencoder, encoder = build_encoder(input_dim)\n",
    "    encoder.trainable = False\n",
    "    model_0 = build_model(encoder)\n",
    "    model_0.load_weights(w)\n",
    "    model.append(model_0)\n",
    "print(len(model))"
   ]
  },
  {
   "cell_type": "code",
   "execution_count": 12,
   "id": "36a512e1",
   "metadata": {
    "execution": {
     "iopub.execute_input": "2022-04-18T03:37:14.038270Z",
     "iopub.status.busy": "2022-04-18T03:37:14.037491Z",
     "iopub.status.idle": "2022-04-18T03:37:22.421088Z",
     "shell.execute_reply": "2022-04-18T03:37:22.421722Z",
     "shell.execute_reply.started": "2022-04-15T18:38:12.662874Z"
    },
    "papermill": {
     "duration": 8.400648,
     "end_time": "2022-04-18T03:37:22.421956",
     "exception": false,
     "start_time": "2022-04-18T03:37:14.021308",
     "status": "completed"
    },
    "tags": []
   },
   "outputs": [
    {
     "name": "stdout",
     "output_type": "stream",
     "text": [
      "This version of the API is not optimized and should not be used to estimate the runtime of your code on the hidden test set.\n"
     ]
    },
    {
     "name": "stderr",
     "output_type": "stream",
     "text": [
      "2022-04-18 03:37:14.145735: I tensorflow/compiler/mlir/mlir_graph_optimization_pass.cc:185] None of the MLIR Optimization Passes are enabled (registered 2)\n"
     ]
    },
    {
     "name": "stdout",
     "output_type": "stream",
     "text": [
      "[[-1.0057709 ]\n",
      " [-0.22479707]]\n",
      "[[-1.0372939 ]\n",
      " [-0.65028423]\n",
      " [-0.8674945 ]]\n",
      "[[-0.5857274 ]\n",
      " [ 0.05598549]\n",
      " [-0.85898656]]\n",
      "[[-0.47927392]]\n"
     ]
    }
   ],
   "source": [
    "# an iterator which loops over the test set and sample submission\n",
    "for (test_df, sample_prediction_df) in iter_test:\n",
    "    data_ox = test_df.drop(columns=['row_id', 'investment_id']).values\n",
    "    data_ox = scaler.transform(data_ox)\n",
    "    temp = model[0].predict(data_ox, batch_size=2048)\n",
    "    for i in range(1, len(model)):\n",
    "        temp = temp + model[i].predict(data_ox, batch_size=2048)\n",
    "    print(temp)\n",
    "    sample_prediction_df['target'] = temp\n",
    "    env.predict(sample_prediction_df)   # register your predictions"
   ]
  }
 ],
 "metadata": {
  "kernelspec": {
   "display_name": "Python 3",
   "language": "python",
   "name": "python3"
  },
  "language_info": {
   "codemirror_mode": {
    "name": "ipython",
    "version": 3
   },
   "file_extension": ".py",
   "mimetype": "text/x-python",
   "name": "python",
   "nbconvert_exporter": "python",
   "pygments_lexer": "ipython3",
   "version": "3.7.12"
  },
  "papermill": {
   "default_parameters": {},
   "duration": 90.344187,
   "end_time": "2022-04-18T03:37:25.253367",
   "environment_variables": {},
   "exception": null,
   "input_path": "__notebook__.ipynb",
   "output_path": "__notebook__.ipynb",
   "parameters": {},
   "start_time": "2022-04-18T03:35:54.909180",
   "version": "2.3.3"
  }
 },
 "nbformat": 4,
 "nbformat_minor": 5
}
